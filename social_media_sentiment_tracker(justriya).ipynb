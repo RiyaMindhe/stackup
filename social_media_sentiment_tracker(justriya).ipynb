{
 "cells": [
  {
   "cell_type": "code",
   "execution_count": 15,
   "id": "11e212cf",
   "metadata": {
    "scrolled": false
   },
   "outputs": [
    {
     "name": "stderr",
     "output_type": "stream",
     "text": [
      "[nltk_data] Downloading package stopwords to\n",
      "[nltk_data]     C:\\Users\\riyam\\AppData\\Roaming\\nltk_data...\n",
      "[nltk_data]   Package stopwords is already up-to-date!\n"
     ]
    },
    {
     "data": {
      "image/png": "[encoded data removed]",
      "text/plain": [
       "<Figure size 640x480 with 1 Axes>"
      ]
     },
     "metadata": {},
     "output_type": "display_data"
    }
   ],
   "source": [
    "import pandas as pd\n",
    "import numpy as np\n",
    "from textblob import TextBlob\n",
    "import matplotlib.pyplot as plt\n",
    "import re\n",
    "import nltk\n",
    "from nltk.corpus import stopwords\n",
    "nltk.download('stopwords')\n",
    "from nltk.stem import PorterStemmer\n",
    "\n",
    "# Assuming you have collected posts and stored them in a list\n",
    "posts = [\n",
    "    \"Amazing product! I love it.\",\n",
    "    \"Not very happy with the service.\",\n",
    "    # ... more posts\n",
    "]\n",
    "\n",
    "df = pd.DataFrame({'post': posts})\n",
    "def preprocess_text(text):\n",
    "    # Convert to lowercase\n",
    "    text = text.lower()\n",
    "    # Remove punctuation\n",
    "    text = re.sub(r\"[^\\w\\s]\", \"\", text)\n",
    "    # Tokenize words\n",
    "    words = text.split()\n",
    "    # Remove stop words (optional)\n",
    "    stop_words = set(stopwords.words(\"english\"))\n",
    "    words = [word for word in words if word not in stop_words]\n",
    "    # Stemming or lemmatization (optional)\n",
    "    porter = PorterStemmer()\n",
    "    words = [porter.stem(word) for word in words]\n",
    "    return \" \".join(words)\n",
    "\n",
    "df['preprocessed_text'] = df['post'].apply(preprocess_text)\n",
    "def analyze_sentiment(text):\n",
    "    analysis = TextBlob(text)\n",
    "    if analysis.sentiment.polarity > 0:\n",
    "        return \"Positive\"\n",
    "    elif analysis.sentiment.polarity == 0:\n",
    "        return \"Neutral\"\n",
    "    else:\n",
    "        return \"Negative\"\n",
    "\n",
    "df['sentiment'] = df['preprocessed_text'].apply(analyze_sentiment)\n",
    "# Count sentiment occurrences\n",
    "sentiment_counts = df['sentiment'].value_counts()\n",
    "# Create a bar chart\n",
    "sentiment_counts.plot(kind='bar')\n",
    "plt.title(\"Sentiment Distribution\")\n",
    "plt.xlabel(\"Sentiment\")\n",
    "plt.ylabel(\"Count\")\n",
    "plt.show()\n"
   ]
  },
  {
   "cell_type": "code",
   "execution_count": null,
   "id": "082a0562",
   "metadata": {},
   "outputs": [],
   "source": [
    "#The tracker utilizes APIs to gather public posts based on chosen keywords, hashtags, locations, or specific accounts. Reddit's official API offers wider accessibility, while Instagram requires unofficial options like Instaloader. Extracted text data from captions and titles forms the basis for sentiment analysis.\n",
    "#Pre-trained models like TextBlob classify text as positive, negative, or neutral based on trained algorithms. Each post's sentiment score is calculated and aggregated to understand overall sentiment distribution. Advanced techniques can handle sarcasm and context for improved accuracy.\n",
    "#Histograms visually depict the sentiment distribution, providing insights into dominant opinions and identifying potential outliers. Average sentiment score summarizes the overall sentiment trend.\n",
    "#This Social Media Sentiment Tracker serves as a powerful tool for extracting valuable insights from the ever-evolving landscape of social media. By continuously refining and expanding its capabilities, you can gain a deeper understanding of public opinion and make informed decisions in various contexts."
   ]
  }
 ],
 "metadata": {
  "kernelspec": {
   "display_name": "Python 3 (ipykernel)",
   "language": "python",
   "name": "python3"
  },
  "language_info": {
   "codemirror_mode": {
    "name": "ipython",
    "version": 3
   },
   "file_extension": ".py",
   "mimetype": "text/x-python",
   "name": "python",
   "nbconvert_exporter": "python",
   "pygments_lexer": "ipython3",
   "version": "3.11.5"
  }
 },
 "nbformat": 4,
 "nbformat_minor": 5
}
